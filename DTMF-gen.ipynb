{
  "cells": [
    {
      "cell_type": "markdown",
      "metadata": {
        "id": "view-in-github",
        "colab_type": "text"
      },
      "source": [
        "<a href=\"https://colab.research.google.com/github/dmx3377/DTMF-gen/blob/master/DTMF-gen.ipynb\" target=\"_parent\"><img src=\"https://colab.research.google.com/assets/colab-badge.svg\" alt=\"Open In Colab\"/></a>"
      ]
    },
    {
      "cell_type": "code",
      "execution_count": null,
      "metadata": {
        "id": "-Nl9uqIUU6bj"
      },
      "outputs": [],
      "source": [
        "# @title **Import**\n",
        "\n",
        "from IPython.display import Audio\n",
        "import numpy as np"
      ]
    },
    {
      "cell_type": "code",
      "execution_count": null,
      "metadata": {
        "id": "SJOJKcfhU9yj"
      },
      "outputs": [],
      "source": [
        "# @title **Tones**\n",
        "\n",
        "SAMPLING_RATE = 48000  # @param {type: \"number\"}\n",
        "SIGNAL_DURATION = 0.1  # @param {type: \"number\"}\n",
        "PAUSE_DURATION = 0.1    # @param {type: \"number\"}\n",
        "\n",
        "# DTMF Tone Frequencies (Hz)\n",
        "TONE_FREQUENCIES = {\n",
        "    '1': (697, 1209), '2': (697, 1336), '3': (697, 1477),\n",
        "    '4': (770, 1209), '5': (770, 1336), '6': (770, 1477),\n",
        "    '7': (852, 1209), '8': (852, 1336), '9': (852, 1477),\n",
        "    '*': (941, 1209), '0': (941, 1336), '#': (941, 1477)\n",
        "}\n"
      ]
    },
    {
      "cell_type": "code",
      "execution_count": null,
      "metadata": {
        "id": "1Vfrla7cVanz"
      },
      "outputs": [],
      "source": [
        "# @title **Generate DTMF Audio**\n",
        "\n",
        "def generate_dtmf_audio(numbers: str, sampling_rate: int, signal_duration: float, pause_duration: float) -> np.ndarray:\n",
        "    \"\"\"Generates a DTMF audio signal for the given number string.\n",
        "\n",
        "    Args:\n",
        "        numbers: The string of numbers to generate DTMF tones for (e.g., '123-456-7890').\n",
        "        sampling_rate: The sampling rate of the audio in Hz.\n",
        "        signal_duration: The duration of each DTMF tone in seconds.\n",
        "        pause_duration: The duration of the pause between tones in seconds.\n",
        "\n",
        "    Returns:\n",
        "        A NumPy array representing the audio signal.\n",
        "    \"\"\"\n",
        "    # Filter out invalid characters and get tone frequencies\n",
        "    dial_tones = [TONE_FREQUENCIES[digit] for digit in numbers if digit in TONE_FREQUENCIES]\n",
        "\n",
        "    # Calculate samples per tone and pause\n",
        "    samples_per_tone = int(sampling_rate * signal_duration)\n",
        "    samples_per_pause = int(sampling_rate * pause_duration)\n",
        "\n",
        "    # Time arrays for tone and pause\n",
        "    time_tone = np.linspace(0, signal_duration, samples_per_tone, endpoint=False)\n",
        "    time_pause = np.linspace(0, pause_duration, samples_per_pause, endpoint=False)\n",
        "\n",
        "    # Initialize the audio signal array\n",
        "    audio_signal = np.array([], dtype=np.float32)\n",
        "\n",
        "    # Generate and concatenate tones with pauses\n",
        "    for low_freq, high_freq in dial_tones:\n",
        "        tone_signal = np.sin(2 * np.pi * low_freq * time_tone) + np.sin(2 * np.pi * high_freq * time_tone)\n",
        "        audio_signal = np.concatenate((audio_signal, tone_signal, np.zeros_like(time_pause)))\n",
        "\n",
        "    return audio_signal\n"
      ]
    },
    {
      "cell_type": "code",
      "execution_count": null,
      "metadata": {
        "id": "Az29SPOn6-qC"
      },
      "outputs": [],
      "source": [
        "# @title **Dial and Play**\n",
        "\n",
        "DIAL_NUMBER = \"0118 999 881 999 119 725 3\"  # @param {type: \"string\"}  Number to dial\n",
        "\n",
        "# Generate the DTMF audio signal\n",
        "dtmf_audio = generate_dtmf_audio(DIAL_NUMBER, SAMPLING_RATE, SIGNAL_DURATION, PAUSE_DURATION)\n",
        "\n",
        "# Play the audio\n",
        "Audio(dtmf_audio, rate=SAMPLING_RATE, autoplay=True)"
      ]
    }
  ],
  "metadata": {
    "colab": {
      "provenance": [],
      "include_colab_link": true
    },
    "kernelspec": {
      "display_name": "Python 3",
      "name": "python3"
    },
    "language_info": {
      "name": "python"
    }
  },
  "nbformat": 4,
  "nbformat_minor": 0
}